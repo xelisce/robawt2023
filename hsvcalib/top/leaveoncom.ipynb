{
 "cells": [
  {
   "cell_type": "code",
   "execution_count": 1,
   "metadata": {},
   "outputs": [],
   "source": [
    "import cv2\n",
    "import numpy as np\n",
    "import math"
   ]
  },
  {
   "cell_type": "code",
   "execution_count": 2,
   "metadata": {},
   "outputs": [
    {
     "name": "stdout",
     "output_type": "stream",
     "text": [
      "Line track camera width: 640 Camera height: 480\n"
     ]
    }
   ],
   "source": [
    "frame_org = cv2.imread(\"topcrop.jpg\")\n",
    "width_org, height_org = frame_org.shape[1], frame_org.shape[0]\n",
    "print(\"Line track camera width:\", width_org, \"Camera height:\", height_org)"
   ]
  },
  {
   "cell_type": "code",
   "execution_count": 3,
   "metadata": {},
   "outputs": [
    {
     "name": "stdout",
     "output_type": "stream",
     "text": [
      "New reduced res width: 320  and height: 240\n"
     ]
    }
   ],
   "source": [
    "downed_width = width_org // 2\n",
    "downed_height = height_org // 2\n",
    "downed_img = cv2.pyrDown(frame_org, dstsize=(downed_width, downed_height))\n",
    "print(\"New reduced res width:\", downed_width, \" and height:\", downed_height)"
   ]
  },
  {
   "cell_type": "code",
   "execution_count": 10,
   "metadata": {},
   "outputs": [
    {
     "data": {
      "text/plain": [
       "array([[[133, 165, 154],\n",
       "        [133, 165, 153],\n",
       "        [134, 165, 152],\n",
       "        ...,\n",
       "        [145, 175, 168],\n",
       "        [146, 176, 168],\n",
       "        [147, 176, 167]],\n",
       "\n",
       "       [[133, 165, 155],\n",
       "        [134, 165, 153],\n",
       "        [134, 164, 151],\n",
       "        ...,\n",
       "        [145, 175, 168],\n",
       "        [147, 175, 169],\n",
       "        [148, 175, 169]],\n",
       "\n",
       "       [[132, 161, 153],\n",
       "        [134, 163, 154],\n",
       "        [135, 163, 153],\n",
       "        ...,\n",
       "        [146, 174, 169],\n",
       "        [148, 174, 170],\n",
       "        [149, 173, 171]],\n",
       "\n",
       "       ...,\n",
       "\n",
       "       [[255, 255, 255],\n",
       "        [255, 255, 255],\n",
       "        [255, 255, 255],\n",
       "        ...,\n",
       "        [255, 255, 255],\n",
       "        [255, 255, 255],\n",
       "        [255, 255, 255]],\n",
       "\n",
       "       [[255, 255, 255],\n",
       "        [255, 255, 255],\n",
       "        [255, 255, 255],\n",
       "        ...,\n",
       "        [255, 255, 255],\n",
       "        [255, 255, 255],\n",
       "        [255, 255, 255]],\n",
       "\n",
       "       [[255, 255, 255],\n",
       "        [255, 255, 255],\n",
       "        [255, 255, 255],\n",
       "        ...,\n",
       "        [255, 255, 255],\n",
       "        [255, 255, 255],\n",
       "        [255, 255, 255]]], dtype=uint8)"
      ]
     },
     "execution_count": 10,
     "metadata": {},
     "output_type": "execute_result"
    }
   ],
   "source": [
    "crop_h = 60\n",
    "highercrop_h = 72\n",
    "highercrop_w = 75\n",
    "highercrop_gapw = 35\n",
    "downed_centre_x = downed_width//2\n",
    "\n",
    "processed_img = downed_img.copy()\n",
    "processed_img[downed_height-crop_h:, :] = 255\n",
    "\n",
    "left_triangle = np.array([[0, downed_height-crop_h], [0, downed_height-highercrop_h], [downed_centre_x-highercrop_gapw-highercrop_w, downed_height-highercrop_h], [downed_centre_x-highercrop_gapw, downed_height-crop_h]])\n",
    "right_triangle = np.array([[downed_width, downed_height-crop_h], [downed_width, downed_height-highercrop_h], [downed_centre_x+highercrop_gapw+highercrop_w, downed_height-highercrop_h], [downed_centre_x+highercrop_gapw, downed_height-crop_h]])\n",
    "cv2.fillConvexPoly(processed_img, left_triangle, [255, 255, 255])\n",
    "cv2.fillConvexPoly(processed_img, right_triangle, [255, 255, 255])"
   ]
  },
  {
   "cell_type": "code",
   "execution_count": 11,
   "metadata": {},
   "outputs": [],
   "source": [
    "cv2.imshow(\"processed image\", processed_img)\n",
    "cv2.waitKey()\n",
    "cv2.destroyAllWindows()"
   ]
  },
  {
   "cell_type": "code",
   "execution_count": 18,
   "metadata": {},
   "outputs": [],
   "source": [
    "u_black = 70\n",
    "frame_bw = cv2.cvtColor(processed_img, cv2.COLOR_BGR2GRAY)\n",
    "mask_black = cv2.inRange(frame_bw, 0, u_black)"
   ]
  },
  {
   "cell_type": "code",
   "execution_count": 19,
   "metadata": {},
   "outputs": [],
   "source": [
    "cv2.imshow(\"black mask\", mask_black)\n",
    "cv2.waitKey()\n",
    "cv2.destroyAllWindows()"
   ]
  },
  {
   "cell_type": "code",
   "execution_count": 21,
   "metadata": {},
   "outputs": [
    {
     "data": {
      "text/plain": [
       "array([[0, 0, 0, ..., 0, 0, 0],\n",
       "       [0, 0, 0, ..., 0, 0, 0],\n",
       "       [0, 0, 0, ..., 0, 0, 0],\n",
       "       ...,\n",
       "       [0, 0, 0, ..., 0, 0, 0],\n",
       "       [0, 0, 0, ..., 0, 0, 0],\n",
       "       [0, 0, 0, ..., 0, 0, 0]], dtype=uint8)"
      ]
     },
     "execution_count": 21,
     "metadata": {},
     "output_type": "execute_result"
    }
   ],
   "source": [
    "processed_mask_black = mask_black.copy()\n",
    "black_kernel = np.ones((3, 3), np.uint8)\n",
    "cv2.erode(processed_mask_black, black_kernel)\n",
    "cv2.dilate(processed_mask_black, black_kernel)"
   ]
  },
  {
   "cell_type": "code",
   "execution_count": 22,
   "metadata": {},
   "outputs": [],
   "source": [
    "cv2.imshow(\"after erode dilate\", processed_mask_black)\n",
    "cv2.waitKey()\n",
    "cv2.destroyAllWindows()"
   ]
  }
 ],
 "metadata": {
  "kernelspec": {
   "display_name": ".venv",
   "language": "python",
   "name": "python3"
  },
  "language_info": {
   "codemirror_mode": {
    "name": "ipython",
    "version": 3
   },
   "file_extension": ".py",
   "mimetype": "text/x-python",
   "name": "python",
   "nbconvert_exporter": "python",
   "pygments_lexer": "ipython3",
   "version": "3.10.9"
  },
  "orig_nbformat": 4
 },
 "nbformat": 4,
 "nbformat_minor": 2
}
